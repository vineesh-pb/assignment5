{
 "cells": [
  {
   "cell_type": "code",
   "execution_count": 17,
   "id": "e000e19b",
   "metadata": {},
   "outputs": [
    {
     "data": {
      "text/plain": [
       "100"
      ]
     },
     "execution_count": 17,
     "metadata": {},
     "output_type": "execute_result"
    }
   ],
   "source": [
    "class power:\n",
    "    def pow(a,b,c):\n",
    "        if b==0 or b==1 or c==1:\n",
    "            return b\n",
    "        if b==-1:\n",
    "            if c%2==0:\n",
    "                return 1\n",
    "            else:\n",
    "                return -1\n",
    "        if c==0:\n",
    "            return 1\n",
    "        if c<0:\n",
    "            return 1/pow(b,-c)\n",
    "        val=a.pow(b,c//2)\n",
    "        if c%2==0:\n",
    "            return val*val\n",
    "        return val * val *b\n",
    "obj=power()\n",
    "obj.pow(10,2)"
   ]
  },
  {
   "cell_type": "code",
   "execution_count": 14,
   "id": "798efba5",
   "metadata": {},
   "outputs": [
    {
     "data": {
      "text/plain": [
       "121"
      ]
     },
     "execution_count": 14,
     "metadata": {},
     "output_type": "execute_result"
    }
   ],
   "source": [
    "obj.pow(11,2)"
   ]
  },
  {
   "cell_type": "code",
   "execution_count": 18,
   "id": "2614072b",
   "metadata": {},
   "outputs": [
    {
     "data": {
      "text/plain": [
       "729"
      ]
     },
     "execution_count": 18,
     "metadata": {},
     "output_type": "execute_result"
    }
   ],
   "source": [
    "obj.pow(9,3)"
   ]
  },
  {
   "cell_type": "code",
   "execution_count": null,
   "id": "c035ac52",
   "metadata": {},
   "outputs": [],
   "source": []
  }
 ],
 "metadata": {
  "kernelspec": {
   "display_name": "Python 3",
   "language": "python",
   "name": "python3"
  },
  "language_info": {
   "codemirror_mode": {
    "name": "ipython",
    "version": 3
   },
   "file_extension": ".py",
   "mimetype": "text/x-python",
   "name": "python",
   "nbconvert_exporter": "python",
   "pygments_lexer": "ipython3",
   "version": "3.8.8"
  }
 },
 "nbformat": 4,
 "nbformat_minor": 5
}
